{
  "nbformat": 4,
  "nbformat_minor": 0,
  "metadata": {
    "kernelspec": {
      "name": "python3",
      "display_name": "Python 3"
    },
    "colab": {
      "name": "demo_adversarial_debiasing.ipynb",
      "provenance": [],
      "toc_visible": true
    },
    "accelerator": "GPU"
  },
  "cells": [
    {
      "cell_type": "code",
      "metadata": {
        "id": "PFj8HJw33sDq",
        "colab_type": "code",
        "colab": {
          "base_uri": "https://localhost:8080/",
          "height": 35
        },
        "outputId": "137de51a-9856-4304-ad63-2c4e78c90c99"
      },
      "source": [
        "from google.colab import drive\n",
        "drive.mount('/content/drive')"
      ],
      "execution_count": 3,
      "outputs": [
        {
          "output_type": "stream",
          "text": [
            "Drive already mounted at /content/drive; to attempt to forcibly remount, call drive.mount(\"/content/drive\", force_remount=True).\n"
          ],
          "name": "stdout"
        }
      ]
    },
    {
      "cell_type": "markdown",
      "metadata": {
        "id": "Ubs9SaELzPvQ",
        "colab_type": "text"
      },
      "source": [
        "#### This notebook demonstrates the use of adversarial debiasing algorithm to learn a fair classifier.\n",
        "Adversarial debiasing [1] is an in-processing technique that learns a classifier to maximize prediction accuracy and simultaneously reduce an adversary's ability to determine the protected attribute from the predictions. This approach leads to a fair classifier as the predictions cannot carry any group discrimination information that the adversary can exploit. We will see how to use this algorithm for learning models with and without fairness constraints and apply them on the Adult dataset."
      ]
    },
    {
      "cell_type": "code",
      "metadata": {
        "id": "qcw9Exlp5sZ_",
        "colab_type": "code",
        "colab": {
          "base_uri": "https://localhost:8080/",
          "height": 1000
        },
        "outputId": "d4843ed6-6297-4367-f41c-38c4e0da9798"
      },
      "source": [
        "! pip install 'aif360[all]'"
      ],
      "execution_count": 9,
      "outputs": [
        {
          "output_type": "stream",
          "text": [
            "Requirement already satisfied: aif360[all] in /usr/local/lib/python3.6/dist-packages (0.3.0rc0)\n",
            "Requirement already satisfied: pandas>=0.24.0 in /usr/local/lib/python3.6/dist-packages (from aif360[all]) (1.0.4)\n",
            "Requirement already satisfied: numpy>=1.16 in /usr/local/lib/python3.6/dist-packages (from aif360[all]) (1.18.4)\n",
            "Requirement already satisfied: matplotlib in /usr/local/lib/python3.6/dist-packages (from aif360[all]) (3.2.1)\n",
            "Requirement already satisfied: scikit-learn>=0.21 in /usr/local/lib/python3.6/dist-packages (from aif360[all]) (0.22.2.post1)\n",
            "Requirement already satisfied: scipy>=1.2.0 in /usr/local/lib/python3.6/dist-packages (from aif360[all]) (1.4.1)\n",
            "Requirement already satisfied: sphinx; extra == \"all\" in /usr/local/lib/python3.6/dist-packages (from aif360[all]) (1.8.5)\n",
            "Requirement already satisfied: BlackBoxAuditing; extra == \"all\" in /usr/local/lib/python3.6/dist-packages (from aif360[all]) (0.1.54)\n",
            "Requirement already satisfied: tqdm; extra == \"all\" in /usr/local/lib/python3.6/dist-packages (from aif360[all]) (4.41.1)\n",
            "Requirement already satisfied: sphinx-rtd-theme; extra == \"all\" in /usr/local/lib/python3.6/dist-packages (from aif360[all]) (0.4.3)\n",
            "Requirement already satisfied: jupyter; extra == \"all\" in /usr/local/lib/python3.6/dist-packages (from aif360[all]) (1.0.0)\n",
            "Requirement already satisfied: lime; extra == \"all\" in /usr/local/lib/python3.6/dist-packages (from aif360[all]) (0.2.0.0)\n",
            "Requirement already satisfied: adversarial-robustness-toolbox>=1.0.0; extra == \"all\" in /usr/local/lib/python3.6/dist-packages (from aif360[all]) (1.2.0)\n",
            "Requirement already satisfied: pytest>=3.5; extra == \"all\" in /usr/local/lib/python3.6/dist-packages (from aif360[all]) (3.6.4)\n",
            "Requirement already satisfied: cvxpy>=1.0; extra == \"all\" in /usr/local/lib/python3.6/dist-packages (from aif360[all]) (1.0.31)\n",
            "Requirement already satisfied: numba>=0.42.0; extra == \"all\" in /usr/local/lib/python3.6/dist-packages (from aif360[all]) (0.48.0)\n",
            "Requirement already satisfied: tensorflow<2,>=1.13.1; extra == \"all\" in /usr/local/lib/python3.6/dist-packages (from aif360[all]) (1.15.3)\n",
            "Requirement already satisfied: python-dateutil>=2.6.1 in /usr/local/lib/python3.6/dist-packages (from pandas>=0.24.0->aif360[all]) (2.8.1)\n",
            "Requirement already satisfied: pytz>=2017.2 in /usr/local/lib/python3.6/dist-packages (from pandas>=0.24.0->aif360[all]) (2018.9)\n",
            "Requirement already satisfied: kiwisolver>=1.0.1 in /usr/local/lib/python3.6/dist-packages (from matplotlib->aif360[all]) (1.2.0)\n",
            "Requirement already satisfied: cycler>=0.10 in /usr/local/lib/python3.6/dist-packages (from matplotlib->aif360[all]) (0.10.0)\n",
            "Requirement already satisfied: pyparsing!=2.0.4,!=2.1.2,!=2.1.6,>=2.0.1 in /usr/local/lib/python3.6/dist-packages (from matplotlib->aif360[all]) (2.4.7)\n",
            "Requirement already satisfied: joblib>=0.11 in /usr/local/lib/python3.6/dist-packages (from scikit-learn>=0.21->aif360[all]) (0.15.1)\n",
            "Requirement already satisfied: requests>=2.0.0 in /usr/local/lib/python3.6/dist-packages (from sphinx; extra == \"all\"->aif360[all]) (2.23.0)\n",
            "Requirement already satisfied: imagesize in /usr/local/lib/python3.6/dist-packages (from sphinx; extra == \"all\"->aif360[all]) (1.2.0)\n",
            "Requirement already satisfied: setuptools in /usr/local/lib/python3.6/dist-packages (from sphinx; extra == \"all\"->aif360[all]) (47.1.1)\n",
            "Requirement already satisfied: snowballstemmer>=1.1 in /usr/local/lib/python3.6/dist-packages (from sphinx; extra == \"all\"->aif360[all]) (2.0.0)\n",
            "Requirement already satisfied: six>=1.5 in /usr/local/lib/python3.6/dist-packages (from sphinx; extra == \"all\"->aif360[all]) (1.12.0)\n",
            "Requirement already satisfied: babel!=2.0,>=1.3 in /usr/local/lib/python3.6/dist-packages (from sphinx; extra == \"all\"->aif360[all]) (2.8.0)\n",
            "Requirement already satisfied: Pygments>=2.0 in /usr/local/lib/python3.6/dist-packages (from sphinx; extra == \"all\"->aif360[all]) (2.1.3)\n",
            "Requirement already satisfied: alabaster<0.8,>=0.7 in /usr/local/lib/python3.6/dist-packages (from sphinx; extra == \"all\"->aif360[all]) (0.7.12)\n",
            "Requirement already satisfied: docutils>=0.11 in /usr/local/lib/python3.6/dist-packages (from sphinx; extra == \"all\"->aif360[all]) (0.15.2)\n",
            "Requirement already satisfied: Jinja2>=2.3 in /usr/local/lib/python3.6/dist-packages (from sphinx; extra == \"all\"->aif360[all]) (2.11.2)\n",
            "Requirement already satisfied: packaging in /usr/local/lib/python3.6/dist-packages (from sphinx; extra == \"all\"->aif360[all]) (20.4)\n",
            "Requirement already satisfied: sphinxcontrib-websupport in /usr/local/lib/python3.6/dist-packages (from sphinx; extra == \"all\"->aif360[all]) (1.2.2)\n",
            "Requirement already satisfied: networkx in /usr/local/lib/python3.6/dist-packages (from BlackBoxAuditing; extra == \"all\"->aif360[all]) (2.4)\n",
            "Requirement already satisfied: jupyter-console in /usr/local/lib/python3.6/dist-packages (from jupyter; extra == \"all\"->aif360[all]) (5.2.0)\n",
            "Requirement already satisfied: ipykernel in /usr/local/lib/python3.6/dist-packages (from jupyter; extra == \"all\"->aif360[all]) (4.10.1)\n",
            "Requirement already satisfied: notebook in /usr/local/lib/python3.6/dist-packages (from jupyter; extra == \"all\"->aif360[all]) (5.2.2)\n",
            "Requirement already satisfied: nbconvert in /usr/local/lib/python3.6/dist-packages (from jupyter; extra == \"all\"->aif360[all]) (5.6.1)\n",
            "Requirement already satisfied: ipywidgets in /usr/local/lib/python3.6/dist-packages (from jupyter; extra == \"all\"->aif360[all]) (7.5.1)\n",
            "Requirement already satisfied: qtconsole in /usr/local/lib/python3.6/dist-packages (from jupyter; extra == \"all\"->aif360[all]) (4.7.4)\n",
            "Requirement already satisfied: pillow==5.4.1 in /usr/local/lib/python3.6/dist-packages (from lime; extra == \"all\"->aif360[all]) (5.4.1)\n",
            "Requirement already satisfied: scikit-image>=0.12 in /usr/local/lib/python3.6/dist-packages (from lime; extra == \"all\"->aif360[all]) (0.16.2)\n",
            "Requirement already satisfied: pluggy<0.8,>=0.5 in /usr/local/lib/python3.6/dist-packages (from pytest>=3.5; extra == \"all\"->aif360[all]) (0.7.1)\n",
            "Requirement already satisfied: py>=1.5.0 in /usr/local/lib/python3.6/dist-packages (from pytest>=3.5; extra == \"all\"->aif360[all]) (1.8.1)\n",
            "Requirement already satisfied: attrs>=17.4.0 in /usr/local/lib/python3.6/dist-packages (from pytest>=3.5; extra == \"all\"->aif360[all]) (19.3.0)\n",
            "Requirement already satisfied: atomicwrites>=1.0 in /usr/local/lib/python3.6/dist-packages (from pytest>=3.5; extra == \"all\"->aif360[all]) (1.4.0)\n",
            "Requirement already satisfied: more-itertools>=4.0.0 in /usr/local/lib/python3.6/dist-packages (from pytest>=3.5; extra == \"all\"->aif360[all]) (8.3.0)\n",
            "Requirement already satisfied: ecos>=2 in /usr/local/lib/python3.6/dist-packages (from cvxpy>=1.0; extra == \"all\"->aif360[all]) (2.0.7.post1)\n",
            "Requirement already satisfied: osqp>=0.4.1 in /usr/local/lib/python3.6/dist-packages (from cvxpy>=1.0; extra == \"all\"->aif360[all]) (0.6.1)\n",
            "Requirement already satisfied: scs>=1.1.3 in /usr/local/lib/python3.6/dist-packages (from cvxpy>=1.0; extra == \"all\"->aif360[all]) (2.1.2)\n",
            "Requirement already satisfied: multiprocess in /usr/local/lib/python3.6/dist-packages (from cvxpy>=1.0; extra == \"all\"->aif360[all]) (0.70.9)\n",
            "Requirement already satisfied: llvmlite<0.32.0,>=0.31.0dev0 in /usr/local/lib/python3.6/dist-packages (from numba>=0.42.0; extra == \"all\"->aif360[all]) (0.31.0)\n",
            "Requirement already satisfied: wrapt>=1.11.1 in /usr/local/lib/python3.6/dist-packages (from tensorflow<2,>=1.13.1; extra == \"all\"->aif360[all]) (1.12.1)\n",
            "Requirement already satisfied: grpcio>=1.8.6 in /usr/local/lib/python3.6/dist-packages (from tensorflow<2,>=1.13.1; extra == \"all\"->aif360[all]) (1.29.0)\n",
            "Requirement already satisfied: protobuf>=3.6.1 in /usr/local/lib/python3.6/dist-packages (from tensorflow<2,>=1.13.1; extra == \"all\"->aif360[all]) (3.10.0)\n",
            "Requirement already satisfied: keras-applications>=1.0.8 in /usr/local/lib/python3.6/dist-packages (from tensorflow<2,>=1.13.1; extra == \"all\"->aif360[all]) (1.0.8)\n",
            "Requirement already satisfied: tensorboard<1.16.0,>=1.15.0 in /usr/local/lib/python3.6/dist-packages (from tensorflow<2,>=1.13.1; extra == \"all\"->aif360[all]) (1.15.0)\n",
            "Requirement already satisfied: termcolor>=1.1.0 in /usr/local/lib/python3.6/dist-packages (from tensorflow<2,>=1.13.1; extra == \"all\"->aif360[all]) (1.1.0)\n",
            "Requirement already satisfied: opt-einsum>=2.3.2 in /usr/local/lib/python3.6/dist-packages (from tensorflow<2,>=1.13.1; extra == \"all\"->aif360[all]) (3.2.1)\n",
            "Requirement already satisfied: keras-preprocessing>=1.0.5 in /usr/local/lib/python3.6/dist-packages (from tensorflow<2,>=1.13.1; extra == \"all\"->aif360[all]) (1.1.2)\n",
            "Requirement already satisfied: absl-py>=0.7.0 in /usr/local/lib/python3.6/dist-packages (from tensorflow<2,>=1.13.1; extra == \"all\"->aif360[all]) (0.9.0)\n",
            "Requirement already satisfied: gast==0.2.2 in /usr/local/lib/python3.6/dist-packages (from tensorflow<2,>=1.13.1; extra == \"all\"->aif360[all]) (0.2.2)\n",
            "Requirement already satisfied: astor>=0.6.0 in /usr/local/lib/python3.6/dist-packages (from tensorflow<2,>=1.13.1; extra == \"all\"->aif360[all]) (0.8.1)\n",
            "Requirement already satisfied: wheel>=0.26; python_version >= \"3\" in /usr/local/lib/python3.6/dist-packages (from tensorflow<2,>=1.13.1; extra == \"all\"->aif360[all]) (0.34.2)\n",
            "Requirement already satisfied: tensorflow-estimator==1.15.1 in /usr/local/lib/python3.6/dist-packages (from tensorflow<2,>=1.13.1; extra == \"all\"->aif360[all]) (1.15.1)\n",
            "Requirement already satisfied: google-pasta>=0.1.6 in /usr/local/lib/python3.6/dist-packages (from tensorflow<2,>=1.13.1; extra == \"all\"->aif360[all]) (0.2.0)\n",
            "Requirement already satisfied: urllib3!=1.25.0,!=1.25.1,<1.26,>=1.21.1 in /usr/local/lib/python3.6/dist-packages (from requests>=2.0.0->sphinx; extra == \"all\"->aif360[all]) (1.24.3)\n",
            "Requirement already satisfied: idna<3,>=2.5 in /usr/local/lib/python3.6/dist-packages (from requests>=2.0.0->sphinx; extra == \"all\"->aif360[all]) (2.9)\n",
            "Requirement already satisfied: certifi>=2017.4.17 in /usr/local/lib/python3.6/dist-packages (from requests>=2.0.0->sphinx; extra == \"all\"->aif360[all]) (2020.4.5.1)\n",
            "Requirement already satisfied: chardet<4,>=3.0.2 in /usr/local/lib/python3.6/dist-packages (from requests>=2.0.0->sphinx; extra == \"all\"->aif360[all]) (3.0.4)\n",
            "Requirement already satisfied: MarkupSafe>=0.23 in /usr/local/lib/python3.6/dist-packages (from Jinja2>=2.3->sphinx; extra == \"all\"->aif360[all]) (1.1.1)\n",
            "Requirement already satisfied: decorator>=4.3.0 in /usr/local/lib/python3.6/dist-packages (from networkx->BlackBoxAuditing; extra == \"all\"->aif360[all]) (4.4.2)\n",
            "Requirement already satisfied: prompt-toolkit<2.0.0,>=1.0.0 in /usr/local/lib/python3.6/dist-packages (from jupyter-console->jupyter; extra == \"all\"->aif360[all]) (1.0.18)\n",
            "Requirement already satisfied: jupyter-client in /usr/local/lib/python3.6/dist-packages (from jupyter-console->jupyter; extra == \"all\"->aif360[all]) (5.3.4)\n",
            "Requirement already satisfied: ipython in /usr/local/lib/python3.6/dist-packages (from jupyter-console->jupyter; extra == \"all\"->aif360[all]) (5.5.0)\n",
            "Requirement already satisfied: tornado>=4.0 in /usr/local/lib/python3.6/dist-packages (from ipykernel->jupyter; extra == \"all\"->aif360[all]) (4.5.3)\n",
            "Requirement already satisfied: traitlets>=4.1.0 in /usr/local/lib/python3.6/dist-packages (from ipykernel->jupyter; extra == \"all\"->aif360[all]) (4.3.3)\n",
            "Requirement already satisfied: nbformat in /usr/local/lib/python3.6/dist-packages (from notebook->jupyter; extra == \"all\"->aif360[all]) (5.0.6)\n",
            "Requirement already satisfied: ipython-genutils in /usr/local/lib/python3.6/dist-packages (from notebook->jupyter; extra == \"all\"->aif360[all]) (0.2.0)\n",
            "Requirement already satisfied: jupyter-core in /usr/local/lib/python3.6/dist-packages (from notebook->jupyter; extra == \"all\"->aif360[all]) (4.6.3)\n",
            "Requirement already satisfied: terminado>=0.3.3; sys_platform != \"win32\" in /usr/local/lib/python3.6/dist-packages (from notebook->jupyter; extra == \"all\"->aif360[all]) (0.8.3)\n",
            "Requirement already satisfied: defusedxml in /usr/local/lib/python3.6/dist-packages (from nbconvert->jupyter; extra == \"all\"->aif360[all]) (0.6.0)\n",
            "Requirement already satisfied: bleach in /usr/local/lib/python3.6/dist-packages (from nbconvert->jupyter; extra == \"all\"->aif360[all]) (3.1.5)\n",
            "Requirement already satisfied: mistune<2,>=0.8.1 in /usr/local/lib/python3.6/dist-packages (from nbconvert->jupyter; extra == \"all\"->aif360[all]) (0.8.4)\n",
            "Requirement already satisfied: entrypoints>=0.2.2 in /usr/local/lib/python3.6/dist-packages (from nbconvert->jupyter; extra == \"all\"->aif360[all]) (0.3)\n",
            "Requirement already satisfied: pandocfilters>=1.4.1 in /usr/local/lib/python3.6/dist-packages (from nbconvert->jupyter; extra == \"all\"->aif360[all]) (1.4.2)\n",
            "Requirement already satisfied: testpath in /usr/local/lib/python3.6/dist-packages (from nbconvert->jupyter; extra == \"all\"->aif360[all]) (0.4.4)\n",
            "Requirement already satisfied: widgetsnbextension~=3.5.0 in /usr/local/lib/python3.6/dist-packages (from ipywidgets->jupyter; extra == \"all\"->aif360[all]) (3.5.1)\n",
            "Requirement already satisfied: qtpy in /usr/local/lib/python3.6/dist-packages (from qtconsole->jupyter; extra == \"all\"->aif360[all]) (1.9.0)\n",
            "Requirement already satisfied: pyzmq>=17.1 in /usr/local/lib/python3.6/dist-packages (from qtconsole->jupyter; extra == \"all\"->aif360[all]) (19.0.1)\n",
            "Requirement already satisfied: PyWavelets>=0.4.0 in /usr/local/lib/python3.6/dist-packages (from scikit-image>=0.12->lime; extra == \"all\"->aif360[all]) (1.1.1)\n",
            "Requirement already satisfied: imageio>=2.3.0 in /usr/local/lib/python3.6/dist-packages (from scikit-image>=0.12->lime; extra == \"all\"->aif360[all]) (2.4.1)\n",
            "Requirement already satisfied: future in /usr/local/lib/python3.6/dist-packages (from osqp>=0.4.1->cvxpy>=1.0; extra == \"all\"->aif360[all]) (0.16.0)\n",
            "Requirement already satisfied: dill>=0.3.1 in /usr/local/lib/python3.6/dist-packages (from multiprocess->cvxpy>=1.0; extra == \"all\"->aif360[all]) (0.3.1.1)\n",
            "Requirement already satisfied: h5py in /usr/local/lib/python3.6/dist-packages (from keras-applications>=1.0.8->tensorflow<2,>=1.13.1; extra == \"all\"->aif360[all]) (2.10.0)\n",
            "Requirement already satisfied: werkzeug>=0.11.15 in /usr/local/lib/python3.6/dist-packages (from tensorboard<1.16.0,>=1.15.0->tensorflow<2,>=1.13.1; extra == \"all\"->aif360[all]) (1.0.1)\n",
            "Requirement already satisfied: markdown>=2.6.8 in /usr/local/lib/python3.6/dist-packages (from tensorboard<1.16.0,>=1.15.0->tensorflow<2,>=1.13.1; extra == \"all\"->aif360[all]) (3.2.2)\n",
            "Requirement already satisfied: wcwidth in /usr/local/lib/python3.6/dist-packages (from prompt-toolkit<2.0.0,>=1.0.0->jupyter-console->jupyter; extra == \"all\"->aif360[all]) (0.2.2)\n",
            "Requirement already satisfied: pickleshare in /usr/local/lib/python3.6/dist-packages (from ipython->jupyter-console->jupyter; extra == \"all\"->aif360[all]) (0.7.5)\n",
            "Requirement already satisfied: pexpect; sys_platform != \"win32\" in /usr/local/lib/python3.6/dist-packages (from ipython->jupyter-console->jupyter; extra == \"all\"->aif360[all]) (4.8.0)\n",
            "Requirement already satisfied: simplegeneric>0.8 in /usr/local/lib/python3.6/dist-packages (from ipython->jupyter-console->jupyter; extra == \"all\"->aif360[all]) (0.8.1)\n",
            "Requirement already satisfied: jsonschema!=2.5.0,>=2.4 in /usr/local/lib/python3.6/dist-packages (from nbformat->notebook->jupyter; extra == \"all\"->aif360[all]) (2.6.0)\n",
            "Requirement already satisfied: ptyprocess; os_name != \"nt\" in /usr/local/lib/python3.6/dist-packages (from terminado>=0.3.3; sys_platform != \"win32\"->notebook->jupyter; extra == \"all\"->aif360[all]) (0.6.0)\n",
            "Requirement already satisfied: webencodings in /usr/local/lib/python3.6/dist-packages (from bleach->nbconvert->jupyter; extra == \"all\"->aif360[all]) (0.5.1)\n",
            "Requirement already satisfied: importlib-metadata; python_version < \"3.8\" in /usr/local/lib/python3.6/dist-packages (from markdown>=2.6.8->tensorboard<1.16.0,>=1.15.0->tensorflow<2,>=1.13.1; extra == \"all\"->aif360[all]) (1.6.0)\n",
            "Requirement already satisfied: zipp>=0.5 in /usr/local/lib/python3.6/dist-packages (from importlib-metadata; python_version < \"3.8\"->markdown>=2.6.8->tensorboard<1.16.0,>=1.15.0->tensorflow<2,>=1.13.1; extra == \"all\"->aif360[all]) (3.1.0)\n"
          ],
          "name": "stdout"
        }
      ]
    },
    {
      "cell_type": "code",
      "metadata": {
        "id": "kzyxxmGjzPvR",
        "colab_type": "code",
        "colab": {}
      },
      "source": [
        "%matplotlib inline\n",
        "# Load all necessary packages\n",
        "import sys\n",
        "sys.path.append(\"../\")\n",
        "from aif360.datasets import BinaryLabelDataset\n",
        "from aif360.datasets import AdultDataset, GermanDataset, CompasDataset\n",
        "from aif360.metrics import BinaryLabelDatasetMetric\n",
        "from aif360.metrics import ClassificationMetric\n",
        "from aif360.metrics.utils import compute_boolean_conditioning_vector\n",
        "\n",
        "from aif360.algorithms.preprocessing.optim_preproc_helpers.data_preproc_functions import load_preproc_data_adult, load_preproc_data_compas, load_preproc_data_german\n",
        "\n",
        "from aif360.algorithms.inprocessing.adversarial_debiasing import AdversarialDebiasing\n",
        "\n",
        "from sklearn.linear_model import LogisticRegression\n",
        "from sklearn.preprocessing import StandardScaler, MaxAbsScaler\n",
        "from sklearn.metrics import accuracy_score\n",
        "\n",
        "from IPython.display import Markdown, display\n",
        "import matplotlib.pyplot as plt\n",
        "\n",
        "import tensorflow as tf"
      ],
      "execution_count": 0,
      "outputs": []
    },
    {
      "cell_type": "markdown",
      "metadata": {
        "id": "cYJ15pfLzPvW",
        "colab_type": "text"
      },
      "source": [
        "#### Load dataset and set options"
      ]
    },
    {
      "cell_type": "code",
      "metadata": {
        "id": "TNRJoudyzPvX",
        "colab_type": "code",
        "colab": {}
      },
      "source": [
        "# Get the dataset and split into train and test\n",
        "dataset_orig = load_preproc_data_adult()\n",
        "\n",
        "privileged_groups = [{'sex': 1}]\n",
        "unprivileged_groups = [{'sex': 0}]\n",
        "\n",
        "dataset_orig_train, dataset_orig_test = dataset_orig.split([0.7], shuffle=True)"
      ],
      "execution_count": 0,
      "outputs": []
    },
    {
      "cell_type": "code",
      "metadata": {
        "id": "PWYGo4ujzPva",
        "colab_type": "code",
        "colab": {
          "base_uri": "https://localhost:8080/",
          "height": 323
        },
        "outputId": "81e64d40-7c84-49b4-ba99-a59168bf1097"
      },
      "source": [
        "# print out some labels, names, etc.\n",
        "display(Markdown(\"#### Training Dataset shape\"))\n",
        "print(dataset_orig_train.features.shape)\n",
        "display(Markdown(\"#### Favorable and unfavorable labels\"))\n",
        "print(dataset_orig_train.favorable_label, dataset_orig_train.unfavorable_label)\n",
        "display(Markdown(\"#### Protected attribute names\"))\n",
        "print(dataset_orig_train.protected_attribute_names)\n",
        "display(Markdown(\"#### Privileged and unprivileged protected attribute values\"))\n",
        "print(dataset_orig_train.privileged_protected_attributes, \n",
        "      dataset_orig_train.unprivileged_protected_attributes)\n",
        "display(Markdown(\"#### Dataset feature names\"))\n",
        "print(dataset_orig_train.feature_names)"
      ],
      "execution_count": 12,
      "outputs": [
        {
          "output_type": "display_data",
          "data": {
            "text/markdown": "#### Training Dataset shape",
            "text/plain": [
              "<IPython.core.display.Markdown object>"
            ]
          },
          "metadata": {
            "tags": []
          }
        },
        {
          "output_type": "stream",
          "text": [
            "(34189, 18)\n"
          ],
          "name": "stdout"
        },
        {
          "output_type": "display_data",
          "data": {
            "text/markdown": "#### Favorable and unfavorable labels",
            "text/plain": [
              "<IPython.core.display.Markdown object>"
            ]
          },
          "metadata": {
            "tags": []
          }
        },
        {
          "output_type": "stream",
          "text": [
            "1.0 0.0\n"
          ],
          "name": "stdout"
        },
        {
          "output_type": "display_data",
          "data": {
            "text/markdown": "#### Protected attribute names",
            "text/plain": [
              "<IPython.core.display.Markdown object>"
            ]
          },
          "metadata": {
            "tags": []
          }
        },
        {
          "output_type": "stream",
          "text": [
            "['sex', 'race']\n"
          ],
          "name": "stdout"
        },
        {
          "output_type": "display_data",
          "data": {
            "text/markdown": "#### Privileged and unprivileged protected attribute values",
            "text/plain": [
              "<IPython.core.display.Markdown object>"
            ]
          },
          "metadata": {
            "tags": []
          }
        },
        {
          "output_type": "stream",
          "text": [
            "[array([1.]), array([1.])] [array([0.]), array([0.])]\n"
          ],
          "name": "stdout"
        },
        {
          "output_type": "display_data",
          "data": {
            "text/markdown": "#### Dataset feature names",
            "text/plain": [
              "<IPython.core.display.Markdown object>"
            ]
          },
          "metadata": {
            "tags": []
          }
        },
        {
          "output_type": "stream",
          "text": [
            "['race', 'sex', 'Age (decade)=10', 'Age (decade)=20', 'Age (decade)=30', 'Age (decade)=40', 'Age (decade)=50', 'Age (decade)=60', 'Age (decade)=>=70', 'Education Years=6', 'Education Years=7', 'Education Years=8', 'Education Years=9', 'Education Years=10', 'Education Years=11', 'Education Years=12', 'Education Years=<6', 'Education Years=>12']\n"
          ],
          "name": "stdout"
        }
      ]
    },
    {
      "cell_type": "markdown",
      "metadata": {
        "id": "7ZFJHdBJzPvd",
        "colab_type": "text"
      },
      "source": [
        "#### Metric for original training data"
      ]
    },
    {
      "cell_type": "code",
      "metadata": {
        "id": "SeW2BL9zzPve",
        "colab_type": "code",
        "colab": {
          "base_uri": "https://localhost:8080/",
          "height": 92
        },
        "outputId": "57d4e99f-25dd-4ccb-fc6f-8bc0d6db38e3"
      },
      "source": [
        "# Metric for the original dataset\n",
        "metric_orig_train = BinaryLabelDatasetMetric(dataset_orig_train, \n",
        "                                             unprivileged_groups=unprivileged_groups,\n",
        "                                             privileged_groups=privileged_groups)\n",
        "display(Markdown(\"#### Original training dataset\"))\n",
        "print(\"Train set: Difference in mean outcomes between unprivileged and privileged groups = %f\" % metric_orig_train.mean_difference())\n",
        "metric_orig_test = BinaryLabelDatasetMetric(dataset_orig_test, \n",
        "                                             unprivileged_groups=unprivileged_groups,\n",
        "                                             privileged_groups=privileged_groups)\n",
        "print(\"Test set: Difference in mean outcomes between unprivileged and privileged groups = %f\" % metric_orig_test.mean_difference())"
      ],
      "execution_count": 13,
      "outputs": [
        {
          "output_type": "display_data",
          "data": {
            "text/markdown": "#### Original training dataset",
            "text/plain": [
              "<IPython.core.display.Markdown object>"
            ]
          },
          "metadata": {
            "tags": []
          }
        },
        {
          "output_type": "stream",
          "text": [
            "Train set: Difference in mean outcomes between unprivileged and privileged groups = -0.193775\n",
            "Test set: Difference in mean outcomes between unprivileged and privileged groups = -0.196214\n"
          ],
          "name": "stdout"
        }
      ]
    },
    {
      "cell_type": "code",
      "metadata": {
        "id": "vh-s1MHKzPvh",
        "colab_type": "code",
        "colab": {
          "base_uri": "https://localhost:8080/",
          "height": 92
        },
        "outputId": "c6cb2054-47cd-48f2-b4e0-994edf3250b6"
      },
      "source": [
        "min_max_scaler = MaxAbsScaler()\n",
        "dataset_orig_train.features = min_max_scaler.fit_transform(dataset_orig_train.features)\n",
        "dataset_orig_test.features = min_max_scaler.transform(dataset_orig_test.features)\n",
        "metric_scaled_train = BinaryLabelDatasetMetric(dataset_orig_train, \n",
        "                             unprivileged_groups=unprivileged_groups,\n",
        "                             privileged_groups=privileged_groups)\n",
        "display(Markdown(\"#### Scaled dataset - Verify that the scaling does not affect the group label statistics\"))\n",
        "print(\"Train set: Difference in mean outcomes between unprivileged and privileged groups = %f\" % metric_scaled_train.mean_difference())\n",
        "metric_scaled_test = BinaryLabelDatasetMetric(dataset_orig_test, \n",
        "                             unprivileged_groups=unprivileged_groups,\n",
        "                             privileged_groups=privileged_groups)\n",
        "print(\"Test set: Difference in mean outcomes between unprivileged and privileged groups = %f\" % metric_scaled_test.mean_difference())\n"
      ],
      "execution_count": 14,
      "outputs": [
        {
          "output_type": "display_data",
          "data": {
            "text/markdown": "#### Scaled dataset - Verify that the scaling does not affect the group label statistics",
            "text/plain": [
              "<IPython.core.display.Markdown object>"
            ]
          },
          "metadata": {
            "tags": []
          }
        },
        {
          "output_type": "stream",
          "text": [
            "Train set: Difference in mean outcomes between unprivileged and privileged groups = -0.193775\n",
            "Test set: Difference in mean outcomes between unprivileged and privileged groups = -0.196214\n"
          ],
          "name": "stdout"
        }
      ]
    },
    {
      "cell_type": "markdown",
      "metadata": {
        "id": "EIiTX7gfzPvk",
        "colab_type": "text"
      },
      "source": [
        "### Learn plan classifier without debiasing"
      ]
    },
    {
      "cell_type": "code",
      "metadata": {
        "id": "DuNJ1DMdzPvl",
        "colab_type": "code",
        "colab": {}
      },
      "source": [
        "# Load post-processing algorithm that equalizes the odds\n",
        "# Learn parameters with debias set to False\n",
        "sess = tf.Session()\n",
        "plain_model = AdversarialDebiasing(privileged_groups = privileged_groups,\n",
        "                          unprivileged_groups = unprivileged_groups,\n",
        "                          scope_name='plain_classifier',\n",
        "                          debias=False,\n",
        "                          sess=sess)"
      ],
      "execution_count": 0,
      "outputs": []
    },
    {
      "cell_type": "code",
      "metadata": {
        "scrolled": true,
        "id": "r2vlMyFczPvo",
        "colab_type": "code",
        "colab": {
          "base_uri": "https://localhost:8080/",
          "height": 1000
        },
        "outputId": "ebf8a480-a921-4267-d974-9274771869e0"
      },
      "source": [
        "plain_model.fit(dataset_orig_train)"
      ],
      "execution_count": 16,
      "outputs": [
        {
          "output_type": "stream",
          "text": [
            "WARNING:tensorflow:From /usr/local/lib/python3.6/dist-packages/aif360/algorithms/inprocessing/adversarial_debiasing.py:137: The name tf.variable_scope is deprecated. Please use tf.compat.v1.variable_scope instead.\n",
            "\n",
            "WARNING:tensorflow:From /usr/local/lib/python3.6/dist-packages/aif360/algorithms/inprocessing/adversarial_debiasing.py:141: The name tf.placeholder is deprecated. Please use tf.compat.v1.placeholder instead.\n",
            "\n",
            "WARNING:tensorflow:From /usr/local/lib/python3.6/dist-packages/aif360/algorithms/inprocessing/adversarial_debiasing.py:84: The name tf.get_variable is deprecated. Please use tf.compat.v1.get_variable instead.\n",
            "\n",
            "WARNING:tensorflow:\n",
            "The TensorFlow contrib module will not be included in TensorFlow 2.0.\n",
            "For more information, please see:\n",
            "  * https://github.com/tensorflow/community/blob/master/rfcs/20180907-contrib-sunset.md\n",
            "  * https://github.com/tensorflow/addons\n",
            "  * https://github.com/tensorflow/io (for I/O related ops)\n",
            "If you depend on functionality not listed there, please file an issue.\n",
            "\n",
            "WARNING:tensorflow:From /usr/local/lib/python3.6/dist-packages/aif360/algorithms/inprocessing/adversarial_debiasing.py:89: calling dropout (from tensorflow.python.ops.nn_ops) with keep_prob is deprecated and will be removed in a future version.\n",
            "Instructions for updating:\n",
            "Please use `rate` instead of `keep_prob`. Rate should be set to `rate = 1 - keep_prob`.\n",
            "WARNING:tensorflow:From /usr/local/lib/python3.6/dist-packages/tensorflow_core/python/ops/nn_impl.py:183: where (from tensorflow.python.ops.array_ops) is deprecated and will be removed in a future version.\n",
            "Instructions for updating:\n",
            "Use tf.where in 2.0, which has the same broadcast rule as np.where\n",
            "WARNING:tensorflow:From /usr/local/lib/python3.6/dist-packages/aif360/algorithms/inprocessing/adversarial_debiasing.py:159: The name tf.train.exponential_decay is deprecated. Please use tf.compat.v1.train.exponential_decay instead.\n",
            "\n",
            "WARNING:tensorflow:From /usr/local/lib/python3.6/dist-packages/aif360/algorithms/inprocessing/adversarial_debiasing.py:161: The name tf.train.AdamOptimizer is deprecated. Please use tf.compat.v1.train.AdamOptimizer instead.\n",
            "\n",
            "WARNING:tensorflow:From /usr/local/lib/python3.6/dist-packages/aif360/algorithms/inprocessing/adversarial_debiasing.py:165: The name tf.trainable_variables is deprecated. Please use tf.compat.v1.trainable_variables instead.\n",
            "\n",
            "WARNING:tensorflow:From /usr/local/lib/python3.6/dist-packages/aif360/algorithms/inprocessing/adversarial_debiasing.py:187: The name tf.global_variables_initializer is deprecated. Please use tf.compat.v1.global_variables_initializer instead.\n",
            "\n",
            "WARNING:tensorflow:From /usr/local/lib/python3.6/dist-packages/aif360/algorithms/inprocessing/adversarial_debiasing.py:188: The name tf.local_variables_initializer is deprecated. Please use tf.compat.v1.local_variables_initializer instead.\n",
            "\n",
            "epoch 0; iter: 0; batch classifier loss: 0.733757\n",
            "epoch 0; iter: 200; batch classifier loss: 0.470949\n",
            "epoch 1; iter: 0; batch classifier loss: 0.472917\n",
            "epoch 1; iter: 200; batch classifier loss: 0.498838\n",
            "epoch 2; iter: 0; batch classifier loss: 0.477298\n",
            "epoch 2; iter: 200; batch classifier loss: 0.363023\n",
            "epoch 3; iter: 0; batch classifier loss: 0.433492\n",
            "epoch 3; iter: 200; batch classifier loss: 0.378420\n",
            "epoch 4; iter: 0; batch classifier loss: 0.355672\n",
            "epoch 4; iter: 200; batch classifier loss: 0.445407\n",
            "epoch 5; iter: 0; batch classifier loss: 0.499794\n",
            "epoch 5; iter: 200; batch classifier loss: 0.410216\n",
            "epoch 6; iter: 0; batch classifier loss: 0.515586\n",
            "epoch 6; iter: 200; batch classifier loss: 0.403020\n",
            "epoch 7; iter: 0; batch classifier loss: 0.373760\n",
            "epoch 7; iter: 200; batch classifier loss: 0.383241\n",
            "epoch 8; iter: 0; batch classifier loss: 0.461229\n",
            "epoch 8; iter: 200; batch classifier loss: 0.482758\n",
            "epoch 9; iter: 0; batch classifier loss: 0.490935\n",
            "epoch 9; iter: 200; batch classifier loss: 0.388675\n",
            "epoch 10; iter: 0; batch classifier loss: 0.382488\n",
            "epoch 10; iter: 200; batch classifier loss: 0.435896\n",
            "epoch 11; iter: 0; batch classifier loss: 0.416225\n",
            "epoch 11; iter: 200; batch classifier loss: 0.430046\n",
            "epoch 12; iter: 0; batch classifier loss: 0.443272\n",
            "epoch 12; iter: 200; batch classifier loss: 0.366142\n",
            "epoch 13; iter: 0; batch classifier loss: 0.464904\n",
            "epoch 13; iter: 200; batch classifier loss: 0.403018\n",
            "epoch 14; iter: 0; batch classifier loss: 0.421032\n",
            "epoch 14; iter: 200; batch classifier loss: 0.385917\n",
            "epoch 15; iter: 0; batch classifier loss: 0.432186\n",
            "epoch 15; iter: 200; batch classifier loss: 0.405142\n",
            "epoch 16; iter: 0; batch classifier loss: 0.426161\n",
            "epoch 16; iter: 200; batch classifier loss: 0.525326\n",
            "epoch 17; iter: 0; batch classifier loss: 0.405619\n",
            "epoch 17; iter: 200; batch classifier loss: 0.526239\n",
            "epoch 18; iter: 0; batch classifier loss: 0.418215\n",
            "epoch 18; iter: 200; batch classifier loss: 0.445807\n",
            "epoch 19; iter: 0; batch classifier loss: 0.485521\n",
            "epoch 19; iter: 200; batch classifier loss: 0.457415\n",
            "epoch 20; iter: 0; batch classifier loss: 0.401066\n",
            "epoch 20; iter: 200; batch classifier loss: 0.471194\n",
            "epoch 21; iter: 0; batch classifier loss: 0.534605\n",
            "epoch 21; iter: 200; batch classifier loss: 0.404073\n",
            "epoch 22; iter: 0; batch classifier loss: 0.346647\n",
            "epoch 22; iter: 200; batch classifier loss: 0.424111\n",
            "epoch 23; iter: 0; batch classifier loss: 0.420884\n",
            "epoch 23; iter: 200; batch classifier loss: 0.433213\n",
            "epoch 24; iter: 0; batch classifier loss: 0.416180\n",
            "epoch 24; iter: 200; batch classifier loss: 0.428588\n",
            "epoch 25; iter: 0; batch classifier loss: 0.338953\n",
            "epoch 25; iter: 200; batch classifier loss: 0.464699\n",
            "epoch 26; iter: 0; batch classifier loss: 0.502509\n",
            "epoch 26; iter: 200; batch classifier loss: 0.412690\n",
            "epoch 27; iter: 0; batch classifier loss: 0.473101\n",
            "epoch 27; iter: 200; batch classifier loss: 0.465083\n",
            "epoch 28; iter: 0; batch classifier loss: 0.403127\n",
            "epoch 28; iter: 200; batch classifier loss: 0.422407\n",
            "epoch 29; iter: 0; batch classifier loss: 0.411138\n",
            "epoch 29; iter: 200; batch classifier loss: 0.306387\n",
            "epoch 30; iter: 0; batch classifier loss: 0.477492\n",
            "epoch 30; iter: 200; batch classifier loss: 0.451625\n",
            "epoch 31; iter: 0; batch classifier loss: 0.441142\n",
            "epoch 31; iter: 200; batch classifier loss: 0.398147\n",
            "epoch 32; iter: 0; batch classifier loss: 0.360120\n",
            "epoch 32; iter: 200; batch classifier loss: 0.321564\n",
            "epoch 33; iter: 0; batch classifier loss: 0.433197\n",
            "epoch 33; iter: 200; batch classifier loss: 0.368948\n",
            "epoch 34; iter: 0; batch classifier loss: 0.409885\n",
            "epoch 34; iter: 200; batch classifier loss: 0.385786\n",
            "epoch 35; iter: 0; batch classifier loss: 0.413732\n",
            "epoch 35; iter: 200; batch classifier loss: 0.430044\n",
            "epoch 36; iter: 0; batch classifier loss: 0.430794\n",
            "epoch 36; iter: 200; batch classifier loss: 0.470368\n",
            "epoch 37; iter: 0; batch classifier loss: 0.399870\n",
            "epoch 37; iter: 200; batch classifier loss: 0.343825\n",
            "epoch 38; iter: 0; batch classifier loss: 0.439546\n",
            "epoch 38; iter: 200; batch classifier loss: 0.442838\n",
            "epoch 39; iter: 0; batch classifier loss: 0.318843\n",
            "epoch 39; iter: 200; batch classifier loss: 0.379269\n",
            "epoch 40; iter: 0; batch classifier loss: 0.383179\n",
            "epoch 40; iter: 200; batch classifier loss: 0.374685\n",
            "epoch 41; iter: 0; batch classifier loss: 0.500642\n",
            "epoch 41; iter: 200; batch classifier loss: 0.437521\n",
            "epoch 42; iter: 0; batch classifier loss: 0.539971\n",
            "epoch 42; iter: 200; batch classifier loss: 0.366011\n",
            "epoch 43; iter: 0; batch classifier loss: 0.428170\n",
            "epoch 43; iter: 200; batch classifier loss: 0.384498\n",
            "epoch 44; iter: 0; batch classifier loss: 0.383144\n",
            "epoch 44; iter: 200; batch classifier loss: 0.400369\n",
            "epoch 45; iter: 0; batch classifier loss: 0.427139\n",
            "epoch 45; iter: 200; batch classifier loss: 0.403683\n",
            "epoch 46; iter: 0; batch classifier loss: 0.419104\n",
            "epoch 46; iter: 200; batch classifier loss: 0.413317\n",
            "epoch 47; iter: 0; batch classifier loss: 0.392450\n",
            "epoch 47; iter: 200; batch classifier loss: 0.461955\n",
            "epoch 48; iter: 0; batch classifier loss: 0.434919\n",
            "epoch 48; iter: 200; batch classifier loss: 0.428136\n",
            "epoch 49; iter: 0; batch classifier loss: 0.428696\n",
            "epoch 49; iter: 200; batch classifier loss: 0.357668\n"
          ],
          "name": "stdout"
        },
        {
          "output_type": "execute_result",
          "data": {
            "text/plain": [
              "<aif360.algorithms.inprocessing.adversarial_debiasing.AdversarialDebiasing at 0x7f11c93c7e80>"
            ]
          },
          "metadata": {
            "tags": []
          },
          "execution_count": 16
        }
      ]
    },
    {
      "cell_type": "code",
      "metadata": {
        "id": "G66JqF5izPvq",
        "colab_type": "code",
        "colab": {}
      },
      "source": [
        "# Apply the plain model to test data\n",
        "dataset_nodebiasing_train = plain_model.predict(dataset_orig_train)\n",
        "dataset_nodebiasing_test = plain_model.predict(dataset_orig_test)"
      ],
      "execution_count": 0,
      "outputs": []
    },
    {
      "cell_type": "code",
      "metadata": {
        "id": "RfoMUb3hzPvt",
        "colab_type": "code",
        "colab": {
          "base_uri": "https://localhost:8080/",
          "height": 235
        },
        "outputId": "74c6b9ea-98d0-412e-d78a-d506b00c8549"
      },
      "source": [
        "# Metrics for the dataset from plain model (without debiasing)\n",
        "display(Markdown(\"#### Plain model - without debiasing - dataset metrics\"))\n",
        "metric_dataset_nodebiasing_train = BinaryLabelDatasetMetric(dataset_nodebiasing_train, \n",
        "                                             unprivileged_groups=unprivileged_groups,\n",
        "                                             privileged_groups=privileged_groups)\n",
        "\n",
        "print(\"Train set: Difference in mean outcomes between unprivileged and privileged groups = %f\" % metric_dataset_nodebiasing_train.mean_difference())\n",
        "\n",
        "metric_dataset_nodebiasing_test = BinaryLabelDatasetMetric(dataset_nodebiasing_test, \n",
        "                                             unprivileged_groups=unprivileged_groups,\n",
        "                                             privileged_groups=privileged_groups)\n",
        "\n",
        "print(\"Test set: Difference in mean outcomes between unprivileged and privileged groups = %f\" % metric_dataset_nodebiasing_test.mean_difference())\n",
        "\n",
        "display(Markdown(\"#### Plain model - without debiasing - classification metrics\"))\n",
        "classified_metric_nodebiasing_test = ClassificationMetric(dataset_orig_test, \n",
        "                                                 dataset_nodebiasing_test,\n",
        "                                                 unprivileged_groups=unprivileged_groups,\n",
        "                                                 privileged_groups=privileged_groups)\n",
        "print(\"Test set: Classification accuracy = %f\" % classified_metric_nodebiasing_test.accuracy())\n",
        "TPR = classified_metric_nodebiasing_test.true_positive_rate()\n",
        "TNR = classified_metric_nodebiasing_test.true_negative_rate()\n",
        "bal_acc_nodebiasing_test = 0.5*(TPR+TNR)\n",
        "print(\"Test set: Balanced classification accuracy = %f\" % bal_acc_nodebiasing_test)\n",
        "print(\"Test set: Disparate impact = %f\" % classified_metric_nodebiasing_test.disparate_impact())\n",
        "print(\"Test set: Equal opportunity difference = %f\" % classified_metric_nodebiasing_test.equal_opportunity_difference())\n",
        "print(\"Test set: Average odds difference = %f\" % classified_metric_nodebiasing_test.average_odds_difference())\n",
        "print(\"Test set: Theil_index = %f\" % classified_metric_nodebiasing_test.theil_index())"
      ],
      "execution_count": 18,
      "outputs": [
        {
          "output_type": "display_data",
          "data": {
            "text/markdown": "#### Plain model - without debiasing - dataset metrics",
            "text/plain": [
              "<IPython.core.display.Markdown object>"
            ]
          },
          "metadata": {
            "tags": []
          }
        },
        {
          "output_type": "stream",
          "text": [
            "Train set: Difference in mean outcomes between unprivileged and privileged groups = -0.236829\n",
            "Test set: Difference in mean outcomes between unprivileged and privileged groups = -0.234735\n"
          ],
          "name": "stdout"
        },
        {
          "output_type": "display_data",
          "data": {
            "text/markdown": "#### Plain model - without debiasing - classification metrics",
            "text/plain": [
              "<IPython.core.display.Markdown object>"
            ]
          },
          "metadata": {
            "tags": []
          }
        },
        {
          "output_type": "stream",
          "text": [
            "Test set: Classification accuracy = 0.801884\n",
            "Test set: Balanced classification accuracy = 0.667061\n",
            "Test set: Disparate impact = 0.000000\n",
            "Test set: Equal opportunity difference = -0.483520\n",
            "Test set: Average odds difference = -0.305559\n",
            "Test set: Theil_index = 0.171984\n"
          ],
          "name": "stdout"
        }
      ]
    },
    {
      "cell_type": "markdown",
      "metadata": {
        "id": "JAZNveRdzPvw",
        "colab_type": "text"
      },
      "source": [
        "### Apply in-processing algorithm based on adversarial learning"
      ]
    },
    {
      "cell_type": "code",
      "metadata": {
        "id": "Btzba3gfzPvw",
        "colab_type": "code",
        "colab": {}
      },
      "source": [
        "sess.close()\n",
        "tf.reset_default_graph()\n",
        "sess = tf.Session()"
      ],
      "execution_count": 0,
      "outputs": []
    },
    {
      "cell_type": "code",
      "metadata": {
        "id": "J0F7QkAozPvz",
        "colab_type": "code",
        "colab": {}
      },
      "source": [
        "# Learn parameters with debias set to True\n",
        "debiased_model = AdversarialDebiasing(privileged_groups = privileged_groups,\n",
        "                          unprivileged_groups = unprivileged_groups,\n",
        "                          scope_name='debiased_classifier',\n",
        "                          debias=True,\n",
        "                          sess=sess)"
      ],
      "execution_count": 0,
      "outputs": []
    },
    {
      "cell_type": "code",
      "metadata": {
        "scrolled": true,
        "id": "D1linJEgzPv1",
        "colab_type": "code",
        "colab": {
          "base_uri": "https://localhost:8080/",
          "height": 1000
        },
        "outputId": "c03d0e10-2573-4161-e81f-05882ce56d4e"
      },
      "source": [
        "debiased_model.fit(dataset_orig_train)"
      ],
      "execution_count": 21,
      "outputs": [
        {
          "output_type": "stream",
          "text": [
            "epoch 0; iter: 0; batch classifier loss: 0.749985; batch adversarial loss: 0.888760\n",
            "epoch 0; iter: 200; batch classifier loss: 1.159541; batch adversarial loss: 0.909806\n",
            "epoch 1; iter: 0; batch classifier loss: 1.032757; batch adversarial loss: 0.810486\n",
            "epoch 1; iter: 200; batch classifier loss: 0.737737; batch adversarial loss: 0.685735\n",
            "epoch 2; iter: 0; batch classifier loss: 0.540429; batch adversarial loss: 0.657878\n",
            "epoch 2; iter: 200; batch classifier loss: 0.560403; batch adversarial loss: 0.623206\n",
            "epoch 3; iter: 0; batch classifier loss: 0.410358; batch adversarial loss: 0.650084\n",
            "epoch 3; iter: 200; batch classifier loss: 0.465453; batch adversarial loss: 0.635660\n",
            "epoch 4; iter: 0; batch classifier loss: 0.434170; batch adversarial loss: 0.638424\n",
            "epoch 4; iter: 200; batch classifier loss: 0.459842; batch adversarial loss: 0.637121\n",
            "epoch 5; iter: 0; batch classifier loss: 0.431482; batch adversarial loss: 0.594507\n",
            "epoch 5; iter: 200; batch classifier loss: 0.463621; batch adversarial loss: 0.586769\n",
            "epoch 6; iter: 0; batch classifier loss: 0.496132; batch adversarial loss: 0.601163\n",
            "epoch 6; iter: 200; batch classifier loss: 0.462612; batch adversarial loss: 0.542029\n",
            "epoch 7; iter: 0; batch classifier loss: 0.496337; batch adversarial loss: 0.660010\n",
            "epoch 7; iter: 200; batch classifier loss: 0.504185; batch adversarial loss: 0.571531\n",
            "epoch 8; iter: 0; batch classifier loss: 0.378670; batch adversarial loss: 0.615224\n",
            "epoch 8; iter: 200; batch classifier loss: 0.330517; batch adversarial loss: 0.616902\n",
            "epoch 9; iter: 0; batch classifier loss: 0.437327; batch adversarial loss: 0.596582\n",
            "epoch 9; iter: 200; batch classifier loss: 0.367676; batch adversarial loss: 0.585886\n",
            "epoch 10; iter: 0; batch classifier loss: 0.467756; batch adversarial loss: 0.587804\n",
            "epoch 10; iter: 200; batch classifier loss: 0.380291; batch adversarial loss: 0.610583\n",
            "epoch 11; iter: 0; batch classifier loss: 0.337186; batch adversarial loss: 0.632960\n",
            "epoch 11; iter: 200; batch classifier loss: 0.454406; batch adversarial loss: 0.638141\n",
            "epoch 12; iter: 0; batch classifier loss: 0.556706; batch adversarial loss: 0.632752\n",
            "epoch 12; iter: 200; batch classifier loss: 0.473546; batch adversarial loss: 0.583848\n",
            "epoch 13; iter: 0; batch classifier loss: 0.420078; batch adversarial loss: 0.646221\n",
            "epoch 13; iter: 200; batch classifier loss: 0.414758; batch adversarial loss: 0.574659\n",
            "epoch 14; iter: 0; batch classifier loss: 0.429250; batch adversarial loss: 0.619681\n",
            "epoch 14; iter: 200; batch classifier loss: 0.398228; batch adversarial loss: 0.591037\n",
            "epoch 15; iter: 0; batch classifier loss: 0.524912; batch adversarial loss: 0.590881\n",
            "epoch 15; iter: 200; batch classifier loss: 0.389806; batch adversarial loss: 0.552812\n",
            "epoch 16; iter: 0; batch classifier loss: 0.437061; batch adversarial loss: 0.619006\n",
            "epoch 16; iter: 200; batch classifier loss: 0.440773; batch adversarial loss: 0.585782\n",
            "epoch 17; iter: 0; batch classifier loss: 0.489363; batch adversarial loss: 0.629901\n",
            "epoch 17; iter: 200; batch classifier loss: 0.422927; batch adversarial loss: 0.638092\n",
            "epoch 18; iter: 0; batch classifier loss: 0.411627; batch adversarial loss: 0.638937\n",
            "epoch 18; iter: 200; batch classifier loss: 0.433771; batch adversarial loss: 0.564615\n",
            "epoch 19; iter: 0; batch classifier loss: 0.374225; batch adversarial loss: 0.608100\n",
            "epoch 19; iter: 200; batch classifier loss: 0.456116; batch adversarial loss: 0.586869\n",
            "epoch 20; iter: 0; batch classifier loss: 0.361399; batch adversarial loss: 0.617752\n",
            "epoch 20; iter: 200; batch classifier loss: 0.460663; batch adversarial loss: 0.629890\n",
            "epoch 21; iter: 0; batch classifier loss: 0.463504; batch adversarial loss: 0.651132\n",
            "epoch 21; iter: 200; batch classifier loss: 0.427418; batch adversarial loss: 0.621671\n",
            "epoch 22; iter: 0; batch classifier loss: 0.425015; batch adversarial loss: 0.552376\n",
            "epoch 22; iter: 200; batch classifier loss: 0.450482; batch adversarial loss: 0.635719\n",
            "epoch 23; iter: 0; batch classifier loss: 0.360253; batch adversarial loss: 0.614298\n",
            "epoch 23; iter: 200; batch classifier loss: 0.554899; batch adversarial loss: 0.579456\n",
            "epoch 24; iter: 0; batch classifier loss: 0.449674; batch adversarial loss: 0.566210\n",
            "epoch 24; iter: 200; batch classifier loss: 0.363922; batch adversarial loss: 0.588468\n",
            "epoch 25; iter: 0; batch classifier loss: 0.452656; batch adversarial loss: 0.579429\n",
            "epoch 25; iter: 200; batch classifier loss: 0.346230; batch adversarial loss: 0.627596\n",
            "epoch 26; iter: 0; batch classifier loss: 0.430843; batch adversarial loss: 0.624306\n",
            "epoch 26; iter: 200; batch classifier loss: 0.421164; batch adversarial loss: 0.580675\n",
            "epoch 27; iter: 0; batch classifier loss: 0.562613; batch adversarial loss: 0.567570\n",
            "epoch 27; iter: 200; batch classifier loss: 0.436310; batch adversarial loss: 0.587572\n",
            "epoch 28; iter: 0; batch classifier loss: 0.404801; batch adversarial loss: 0.637772\n",
            "epoch 28; iter: 200; batch classifier loss: 0.482719; batch adversarial loss: 0.660291\n",
            "epoch 29; iter: 0; batch classifier loss: 0.300662; batch adversarial loss: 0.610885\n",
            "epoch 29; iter: 200; batch classifier loss: 0.459216; batch adversarial loss: 0.521083\n",
            "epoch 30; iter: 0; batch classifier loss: 0.434193; batch adversarial loss: 0.602037\n",
            "epoch 30; iter: 200; batch classifier loss: 0.458005; batch adversarial loss: 0.580697\n",
            "epoch 31; iter: 0; batch classifier loss: 0.456559; batch adversarial loss: 0.613892\n",
            "epoch 31; iter: 200; batch classifier loss: 0.465991; batch adversarial loss: 0.591918\n",
            "epoch 32; iter: 0; batch classifier loss: 0.386810; batch adversarial loss: 0.599910\n",
            "epoch 32; iter: 200; batch classifier loss: 0.472347; batch adversarial loss: 0.553964\n",
            "epoch 33; iter: 0; batch classifier loss: 0.428700; batch adversarial loss: 0.586481\n",
            "epoch 33; iter: 200; batch classifier loss: 0.480373; batch adversarial loss: 0.611286\n",
            "epoch 34; iter: 0; batch classifier loss: 0.426808; batch adversarial loss: 0.536878\n",
            "epoch 34; iter: 200; batch classifier loss: 0.466900; batch adversarial loss: 0.580733\n",
            "epoch 35; iter: 0; batch classifier loss: 0.372630; batch adversarial loss: 0.630737\n",
            "epoch 35; iter: 200; batch classifier loss: 0.487858; batch adversarial loss: 0.603098\n",
            "epoch 36; iter: 0; batch classifier loss: 0.379085; batch adversarial loss: 0.592353\n",
            "epoch 36; iter: 200; batch classifier loss: 0.438203; batch adversarial loss: 0.607031\n",
            "epoch 37; iter: 0; batch classifier loss: 0.449088; batch adversarial loss: 0.591674\n",
            "epoch 37; iter: 200; batch classifier loss: 0.410756; batch adversarial loss: 0.555295\n",
            "epoch 38; iter: 0; batch classifier loss: 0.428949; batch adversarial loss: 0.570941\n",
            "epoch 38; iter: 200; batch classifier loss: 0.487421; batch adversarial loss: 0.621229\n",
            "epoch 39; iter: 0; batch classifier loss: 0.368794; batch adversarial loss: 0.577193\n",
            "epoch 39; iter: 200; batch classifier loss: 0.444067; batch adversarial loss: 0.612137\n",
            "epoch 40; iter: 0; batch classifier loss: 0.432236; batch adversarial loss: 0.549550\n",
            "epoch 40; iter: 200; batch classifier loss: 0.408990; batch adversarial loss: 0.559405\n",
            "epoch 41; iter: 0; batch classifier loss: 0.411053; batch adversarial loss: 0.604902\n",
            "epoch 41; iter: 200; batch classifier loss: 0.360405; batch adversarial loss: 0.634554\n",
            "epoch 42; iter: 0; batch classifier loss: 0.383336; batch adversarial loss: 0.599682\n",
            "epoch 42; iter: 200; batch classifier loss: 0.366037; batch adversarial loss: 0.574445\n",
            "epoch 43; iter: 0; batch classifier loss: 0.516199; batch adversarial loss: 0.608357\n",
            "epoch 43; iter: 200; batch classifier loss: 0.349204; batch adversarial loss: 0.613660\n",
            "epoch 44; iter: 0; batch classifier loss: 0.409658; batch adversarial loss: 0.606247\n",
            "epoch 44; iter: 200; batch classifier loss: 0.430781; batch adversarial loss: 0.595675\n",
            "epoch 45; iter: 0; batch classifier loss: 0.445900; batch adversarial loss: 0.605658\n",
            "epoch 45; iter: 200; batch classifier loss: 0.449049; batch adversarial loss: 0.637941\n",
            "epoch 46; iter: 0; batch classifier loss: 0.448638; batch adversarial loss: 0.582723\n",
            "epoch 46; iter: 200; batch classifier loss: 0.413727; batch adversarial loss: 0.588526\n",
            "epoch 47; iter: 0; batch classifier loss: 0.503609; batch adversarial loss: 0.606419\n",
            "epoch 47; iter: 200; batch classifier loss: 0.451301; batch adversarial loss: 0.564754\n",
            "epoch 48; iter: 0; batch classifier loss: 0.431867; batch adversarial loss: 0.592617\n",
            "epoch 48; iter: 200; batch classifier loss: 0.379309; batch adversarial loss: 0.611834\n",
            "epoch 49; iter: 0; batch classifier loss: 0.417126; batch adversarial loss: 0.588539\n",
            "epoch 49; iter: 200; batch classifier loss: 0.485052; batch adversarial loss: 0.598485\n"
          ],
          "name": "stdout"
        },
        {
          "output_type": "execute_result",
          "data": {
            "text/plain": [
              "<aif360.algorithms.inprocessing.adversarial_debiasing.AdversarialDebiasing at 0x7f11be0ae908>"
            ]
          },
          "metadata": {
            "tags": []
          },
          "execution_count": 21
        }
      ]
    },
    {
      "cell_type": "code",
      "metadata": {
        "id": "R_cXWBTnzPv3",
        "colab_type": "code",
        "colab": {}
      },
      "source": [
        "# Apply the plain model to test data\n",
        "dataset_debiasing_train = debiased_model.predict(dataset_orig_train)\n",
        "dataset_debiasing_test = debiased_model.predict(dataset_orig_test)"
      ],
      "execution_count": 0,
      "outputs": []
    },
    {
      "cell_type": "code",
      "metadata": {
        "id": "e73Wi1ybzPv5",
        "colab_type": "code",
        "colab": {
          "base_uri": "https://localhost:8080/",
          "height": 453
        },
        "outputId": "7efb77d5-0e75-4754-9a72-e1c53c0c2542"
      },
      "source": [
        "# Metrics for the dataset from plain model (without debiasing)\n",
        "display(Markdown(\"#### Plain model - without debiasing - dataset metrics\"))\n",
        "print(\"Train set: Difference in mean outcomes between unprivileged and privileged groups = %f\" % metric_dataset_nodebiasing_train.mean_difference())\n",
        "print(\"Test set: Difference in mean outcomes between unprivileged and privileged groups = %f\" % metric_dataset_nodebiasing_test.mean_difference())\n",
        "\n",
        "# Metrics for the dataset from model with debiasing\n",
        "display(Markdown(\"#### Model - with debiasing - dataset metrics\"))\n",
        "metric_dataset_debiasing_train = BinaryLabelDatasetMetric(dataset_debiasing_train, \n",
        "                                             unprivileged_groups=unprivileged_groups,\n",
        "                                             privileged_groups=privileged_groups)\n",
        "\n",
        "print(\"Train set: Difference in mean outcomes between unprivileged and privileged groups = %f\" % metric_dataset_debiasing_train.mean_difference())\n",
        "\n",
        "metric_dataset_debiasing_test = BinaryLabelDatasetMetric(dataset_debiasing_test, \n",
        "                                             unprivileged_groups=unprivileged_groups,\n",
        "                                             privileged_groups=privileged_groups)\n",
        "\n",
        "print(\"Test set: Difference in mean outcomes between unprivileged and privileged groups = %f\" % metric_dataset_debiasing_test.mean_difference())\n",
        "\n",
        "\n",
        "\n",
        "display(Markdown(\"#### Plain model - without debiasing - classification metrics\"))\n",
        "print(\"Test set: Classification accuracy = %f\" % classified_metric_nodebiasing_test.accuracy())\n",
        "TPR = classified_metric_nodebiasing_test.true_positive_rate()\n",
        "TNR = classified_metric_nodebiasing_test.true_negative_rate()\n",
        "bal_acc_nodebiasing_test = 0.5*(TPR+TNR)\n",
        "print(\"Test set: Balanced classification accuracy = %f\" % bal_acc_nodebiasing_test)\n",
        "print(\"Test set: Disparate impact = %f\" % classified_metric_nodebiasing_test.disparate_impact())\n",
        "print(\"Test set: Equal opportunity difference = %f\" % classified_metric_nodebiasing_test.equal_opportunity_difference())\n",
        "print(\"Test set: Average odds difference = %f\" % classified_metric_nodebiasing_test.average_odds_difference())\n",
        "print(\"Test set: Theil_index = %f\" % classified_metric_nodebiasing_test.theil_index())\n",
        "\n",
        "\n",
        "\n",
        "display(Markdown(\"#### Model - with debiasing - classification metrics\"))\n",
        "classified_metric_debiasing_test = ClassificationMetric(dataset_orig_test, \n",
        "                                                 dataset_debiasing_test,\n",
        "                                                 unprivileged_groups=unprivileged_groups,\n",
        "                                                 privileged_groups=privileged_groups)\n",
        "print(\"Test set: Classification accuracy = %f\" % classified_metric_debiasing_test.accuracy())\n",
        "TPR = classified_metric_debiasing_test.true_positive_rate()\n",
        "TNR = classified_metric_debiasing_test.true_negative_rate()\n",
        "bal_acc_debiasing_test = 0.5*(TPR+TNR)\n",
        "print(\"Test set: Balanced classification accuracy = %f\" % bal_acc_debiasing_test)\n",
        "print(\"Test set: Disparate impact = %f\" % classified_metric_debiasing_test.disparate_impact())\n",
        "print(\"Test set: Equal opportunity difference = %f\" % classified_metric_debiasing_test.equal_opportunity_difference())\n",
        "print(\"Test set: Average odds difference = %f\" % classified_metric_debiasing_test.average_odds_difference())\n",
        "print(\"Test set: Theil_index = %f\" % classified_metric_debiasing_test.theil_index())"
      ],
      "execution_count": 23,
      "outputs": [
        {
          "output_type": "display_data",
          "data": {
            "text/markdown": "#### Plain model - without debiasing - dataset metrics",
            "text/plain": [
              "<IPython.core.display.Markdown object>"
            ]
          },
          "metadata": {
            "tags": []
          }
        },
        {
          "output_type": "stream",
          "text": [
            "Train set: Difference in mean outcomes between unprivileged and privileged groups = -0.236829\n",
            "Test set: Difference in mean outcomes between unprivileged and privileged groups = -0.234735\n"
          ],
          "name": "stdout"
        },
        {
          "output_type": "display_data",
          "data": {
            "text/markdown": "#### Model - with debiasing - dataset metrics",
            "text/plain": [
              "<IPython.core.display.Markdown object>"
            ]
          },
          "metadata": {
            "tags": []
          }
        },
        {
          "output_type": "stream",
          "text": [
            "Train set: Difference in mean outcomes between unprivileged and privileged groups = -0.080864\n",
            "Test set: Difference in mean outcomes between unprivileged and privileged groups = -0.072381\n"
          ],
          "name": "stdout"
        },
        {
          "output_type": "display_data",
          "data": {
            "text/markdown": "#### Plain model - without debiasing - classification metrics",
            "text/plain": [
              "<IPython.core.display.Markdown object>"
            ]
          },
          "metadata": {
            "tags": []
          }
        },
        {
          "output_type": "stream",
          "text": [
            "Test set: Classification accuracy = 0.801884\n",
            "Test set: Balanced classification accuracy = 0.667061\n",
            "Test set: Disparate impact = 0.000000\n",
            "Test set: Equal opportunity difference = -0.483520\n",
            "Test set: Average odds difference = -0.305559\n",
            "Test set: Theil_index = 0.171984\n"
          ],
          "name": "stdout"
        },
        {
          "output_type": "display_data",
          "data": {
            "text/markdown": "#### Model - with debiasing - classification metrics",
            "text/plain": [
              "<IPython.core.display.Markdown object>"
            ]
          },
          "metadata": {
            "tags": []
          }
        },
        {
          "output_type": "stream",
          "text": [
            "Test set: Classification accuracy = 0.788644\n",
            "Test set: Balanced classification accuracy = 0.667009\n",
            "Test set: Disparate impact = 0.648102\n",
            "Test set: Equal opportunity difference = -0.012054\n",
            "Test set: Average odds difference = -0.009220\n",
            "Test set: Theil_index = 0.170863\n"
          ],
          "name": "stdout"
        }
      ]
    },
    {
      "cell_type": "markdown",
      "metadata": {
        "id": "Gg3J743zzPv8",
        "colab_type": "text"
      },
      "source": [
        "\n",
        "    References:\n",
        "    [1] B. H. Zhang, B. Lemoine, and M. Mitchell, \"Mitigating UnwantedBiases with Adversarial Learning,\" \n",
        "    AAAI/ACM Conference on Artificial Intelligence, Ethics, and Society, 2018."
      ]
    },
    {
      "cell_type": "code",
      "metadata": {
        "id": "EQHTGVR9zPv8",
        "colab_type": "code",
        "colab": {}
      },
      "source": [
        ""
      ],
      "execution_count": 0,
      "outputs": []
    }
  ]
}